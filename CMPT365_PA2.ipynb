{
  "cells": [
    {
      "cell_type": "code",
      "execution_count": 1,
      "id": "22cfedde",
      "metadata": {
        "id": "22cfedde"
      },
      "outputs": [],
      "source": [
        "import os\n",
        "import math\n",
        "import numpy as np\n",
        "# Please put your input file in the same folder as this Jupyter notebook file.\n",
        "# Please do not change any other code\n",
        "# You only need to complete the functions with TODO\n",
        "# You can simply run the Q1/Q2/Q3_test() to test your function"
      ]
    },
    {
      "cell_type": "code",
      "execution_count": 2,
      "id": "e8039925",
      "metadata": {
        "id": "e8039925"
      },
      "outputs": [],
      "source": [
        "def Q1_input(file_path):\n",
        "    input_list = []\n",
        "    with open(file_path, 'r') as file:\n",
        "        for line in file:\n",
        "            values = line.strip().split(',')\n",
        "            if len(values) == 3:\n",
        "                try:\n",
        "                    Y = int(values[0])\n",
        "                    Co = int(values[1])\n",
        "                    Cg = int(values[2])\n",
        "                    input_list.append((Y, Co, Cg))\n",
        "                except ValueError:\n",
        "                    print(f\"Invalid line: {line}\")\n",
        "    return input_list\n",
        "\n",
        "\n",
        "def Q1_test():\n",
        "    input_file = \"q1_input.txt\"\n",
        "    yco_cg_list = Q1_input(input_file)\n",
        "\n",
        "    for Y, Co, Cg in yco_cg_list:\n",
        "        YUV = Q1(Y, Co, Cg)\n",
        "        print(f\"YCoCg: ({Y}, {Co}, {Cg}) -> YUV: (Y={YUV[0]}, U={YUV[1]}, V={YUV[2]})\")\n"
      ]
    },
    {
      "cell_type": "code",
      "execution_count": 3,
      "id": "e296e743",
      "metadata": {
        "id": "e296e743"
      },
      "outputs": [],
      "source": [
        "def Q1(Y, Co, Cg):\n",
        "    # TODO:\n",
        "    # Conversion formula from Y Co Cg to YUV\n",
        "    YCoCg_RGB_matrix = np.array([\n",
        "        [1,  1,  0],\n",
        "        [-1,  1, -1],\n",
        "        [-1, 1,  1]\n",
        "    ])\n",
        "\n",
        "    RGB_YUV_matrix = np.array([\n",
        "        [0.299, 0.587, 0.114],\n",
        "        [-0.299, -0.587, 0.886],\n",
        "        [0.701, -0.587, -0.114]\n",
        "    ])\n",
        "\n",
        "    CgYCo = np.array([Cg, Y, Co])\n",
        "    G, B, R = np.dot(YCoCg_RGB_matrix, CgYCo)\n",
        "\n",
        "    RGB = np.array([R, G, B])\n",
        "    Y, U, V = np.dot(RGB_YUV_matrix, RGB)\n",
        "\n",
        "    return (Y, U, V)\n"
      ]
    },
    {
      "cell_type": "code",
      "execution_count": 5,
      "id": "35e43085",
      "metadata": {
        "id": "35e43085",
        "scrolled": true,
        "colab": {
          "base_uri": "https://localhost:8080/"
        },
        "outputId": "c8697258-6ada-4e3b-9eef-599acc754622"
      },
      "outputs": [
        {
          "output_type": "stream",
          "name": "stdout",
          "text": [
            "YCoCg: (100, 5, 5) -> YUV: (Y=101.795, U=-11.794999999999996, V=-1.7950000000000024)\n"
          ]
        }
      ],
      "source": [
        "Q1_test()"
      ]
    },
    {
      "cell_type": "code",
      "execution_count": 6,
      "id": "fb4cf90f",
      "metadata": {
        "id": "fb4cf90f"
      },
      "outputs": [],
      "source": [
        "dither_matrix = np.array([\n",
        "    [0, 3],\n",
        "    [2, 1]\n",
        "])\n",
        "\n",
        "def Q2_input(file_path):\n",
        "    image = []\n",
        "    with open(file_path, 'r') as file:\n",
        "        for line in file:\n",
        "            row = []\n",
        "            values = line.strip().split(',')\n",
        "            for item in values:\n",
        "                row.append(int(item))\n",
        "            image.append(row)\n",
        "    return np.array(image)\n",
        "\n",
        "def Q2_test():\n",
        "    file_path = \"q2_input.txt\"\n",
        "    input_image = Q2_input(file_path)\n",
        "    print(\"input image:\\n\",input_image)\n",
        "    dithering_res = dithering(input_image,dither_matrix)\n",
        "    ordered_dithering_res = ordered_dithering(input_image,dither_matrix)\n",
        "    print(\"dithering:\\n\",dithering_res)\n",
        "    print(\"ordered_dithering:\\n\",ordered_dithering_res)"
      ]
    },
    {
      "cell_type": "code",
      "execution_count": 11,
      "id": "db8656ac",
      "metadata": {
        "id": "db8656ac"
      },
      "outputs": [],
      "source": [
        "def dithering(input_image,dither_matrix):\n",
        "    #TODO:\n",
        "    # Function for dithering\n",
        "    ranges = np.linspace(0, 256, 6)\n",
        "    mapped = np.digitize(input_image, ranges) - 1\n",
        "\n",
        "    h, w = input_image.shape\n",
        "    dithered_img = np.zeros((h * 2, w * 2), dtype=np.uint8)\n",
        "\n",
        "    for y in range(h):\n",
        "        for x in range(w):\n",
        "            pixel = mapped[y, x]\n",
        "            new_block = (pixel > dither_matrix).astype(np.uint8)\n",
        "\n",
        "            # Store the 2x2 block in the final image\n",
        "            dithered_img[y*2:y*2+2, x*2:x*2+2] = new_block\n",
        "\n",
        "    return dithered_img\n",
        "\n",
        "def ordered_dithering(input_image,dither_matrix):\n",
        "    #TODO:\n",
        "    # Function for ordered dithering\n",
        "    n = np.size(dither_matrix, axis=0)\n",
        "    ranges = np.linspace(0, 256, 6)\n",
        "    mapped = np.digitize(input_image, ranges) - 1\n",
        "\n",
        "    h, w = input_image.shape\n",
        "    dithered_img = np.zeros((h, w), dtype=np.uint8)\n",
        "    for y in range(h):\n",
        "        for x in range(w):\n",
        "            i = x % n\n",
        "            j = y % n\n",
        "            pixel = mapped[y, x]\n",
        "            dither_entry = dither_matrix[j, i]\n",
        "            if (pixel > dither_entry):\n",
        "                dithered_img[y, x] = 1\n",
        "            else:\n",
        "                dithered_img[y, x] = 0\n",
        "\n",
        "    return dithered_img"
      ]
    },
    {
      "cell_type": "code",
      "execution_count": 12,
      "id": "01197452",
      "metadata": {
        "id": "01197452",
        "colab": {
          "base_uri": "https://localhost:8080/"
        },
        "outputId": "391352ae-9c61-46a4-8059-a74ec313d77a"
      },
      "outputs": [
        {
          "output_type": "stream",
          "name": "stdout",
          "text": [
            "input image:\n",
            " [[ 12 112 233 100]\n",
            " [158 120  10 210]\n",
            " [ 31 190  71  81]\n",
            " [  1   1   1   1]]\n",
            "dithering:\n",
            " [[0 0 1 0 1 1 1 0]\n",
            " [0 0 0 1 1 1 0 0]\n",
            " [1 0 1 0 0 0 1 1]\n",
            " [1 1 0 1 0 0 1 1]\n",
            " [0 0 1 0 1 0 1 0]\n",
            " [0 0 1 1 0 0 0 0]\n",
            " [0 0 0 0 0 0 0 0]\n",
            " [0 0 0 0 0 0 0 0]]\n",
            "ordered_dithering:\n",
            " [[0 0 1 0]\n",
            " [1 1 0 1]\n",
            " [0 0 1 0]\n",
            " [0 0 0 0]]\n"
          ]
        }
      ],
      "source": [
        "Q2_test()"
      ]
    },
    {
      "cell_type": "code",
      "execution_count": 13,
      "id": "71279cb3",
      "metadata": {
        "id": "71279cb3"
      },
      "outputs": [],
      "source": [
        "def Q3_input(file_path):\n",
        "    string = []\n",
        "    with open(file_path, 'r') as file:\n",
        "        for line in file:\n",
        "            string.append(line)\n",
        "    return string\n",
        "\n",
        "\n",
        "def Q3_test():\n",
        "\n",
        "    file_path = \"q3_input.txt\"\n",
        "\n",
        "    input_list = Q3_input(file_path)\n",
        "    for input_string in input_list:\n",
        "        print(\"input string: \",input_string)\n",
        "        print(\"first order entropy:\",first_order_entropy(input_string))\n",
        "        print(\"second order entropy:\",second_order_entropy(input_string))\n",
        "        print(\"average codeword length:\",huffman_length(input_string))\n",
        "        print(\"joint average length:\",joint_huffman_length(input_string))\n",
        "\n"
      ]
    },
    {
      "cell_type": "code",
      "execution_count": 15,
      "id": "dce4fe6e",
      "metadata": {
        "id": "dce4fe6e"
      },
      "outputs": [],
      "source": [
        "def first_order_entropy(string):\n",
        "    # TODO:\n",
        "    # Function to calculate first-order entropy\n",
        "    n = len(string)\n",
        "    frequency = {}\n",
        "    for char in string:\n",
        "        if char in frequency:\n",
        "            frequency[char] += 1\n",
        "        else:\n",
        "            frequency[char] = 1\n",
        "    entropy = -sum((char_count / n) * math.log2(char_count / n) for char_count in frequency.values())\n",
        "\n",
        "    return entropy\n",
        "\n",
        "# NOTE: Second order entropy function returns the value as per symbol, not per 2 symbols\n",
        "def second_order_entropy(string):\n",
        "    # TODO:\n",
        "    # Function to calculate second-order entropy\n",
        "    joint_chars = np.array([string[i:i+2] for i in range(0, len(string) - 1, 2)])\n",
        "    unique_pairs, counts = np.unique(joint_chars, return_counts=True)\n",
        "\n",
        "    frequency = {joint_char: count for joint_char, count in zip(unique_pairs, counts)}\n",
        "    n = len(joint_chars)\n",
        "    entropy = (-sum((pair_count / n) * math.log2(pair_count / n) for pair_count in frequency.values())) / 2\n",
        "    return entropy\n",
        "\n",
        "\n",
        "def huffman_length(string):\n",
        "    # TODO:\n",
        "    # Function to calculate average codeword length\n",
        "    avg_length = 0\n",
        "    n = len(string)\n",
        "    frequency = {}\n",
        "    for char in string:\n",
        "        if char in frequency:\n",
        "            frequency[char] += 1\n",
        "        else:\n",
        "            frequency[char] = 1\n",
        "\n",
        "    heap = [[freq, [char, \"\"]] for char, freq in frequency.items()]\n",
        "    heap.sort()\n",
        "\n",
        "    while len(heap) > 1:\n",
        "        lo = heap.pop(0)  # Smallest frequency node\n",
        "        hi = heap.pop(0)  # Second smallest frequency node\n",
        "\n",
        "        for pair in lo[1:]:\n",
        "            pair[1] = '0' + pair[1]\n",
        "        for pair in hi[1:]:\n",
        "            pair[1] = '1' + pair[1]\n",
        "\n",
        "        merged = [lo[0] + hi[0]] + lo[1:] + hi[1:]\n",
        "        heap.append(merged)\n",
        "        heap.sort()\n",
        "\n",
        "    huffman_dict = dict(heap[0][1:])\n",
        "    avg_length = sum(len(huffman_dict[char]) * frequency[char] for char in frequency) / n\n",
        "    return avg_length\n",
        "\n",
        "\n",
        "def joint_huffman_length(string):\n",
        "    # TODO:\n",
        "    # Function to calculate average codeword length for 2 symbol joint Huffman coding\n",
        "    n = len(string)\n",
        "\n",
        "    joint_chars = [string[i:i+2] for i in range(0, n - 1, 2)]\n",
        "\n",
        "    frequency = {}\n",
        "    for pair in joint_chars:\n",
        "        if pair in frequency:\n",
        "            frequency[pair] += 1\n",
        "        else:\n",
        "            frequency[pair] = 1\n",
        "\n",
        "    heap = [[freq, [pair, \"\"]] for pair, freq in frequency.items()]\n",
        "    heap.sort(key=lambda x: x[0])\n",
        "\n",
        "    while len(heap) > 1:\n",
        "        lo = heap.pop(0)  # Smallest frequency node\n",
        "        hi = heap.pop(0)  # Second smallest frequency node\n",
        "\n",
        "        for pair in lo[1:]:\n",
        "            pair[1] = '0' + pair[1]\n",
        "        for pair in hi[1:]:\n",
        "            pair[1] = '1' + pair[1]\n",
        "\n",
        "        merged = [lo[0] + hi[0]] + lo[1:] + hi[1:]\n",
        "        heap.append(merged)\n",
        "        heap.sort(key=lambda x: x[0])\n",
        "\n",
        "    huffman_dict = dict(heap[0][1:])\n",
        "    total = len(joint_chars)\n",
        "    joint_avg_length = (sum(len(huffman_dict[pair]) * frequency[pair] for pair in frequency) / total) / 2\n",
        "\n",
        "    return joint_avg_length\n",
        "\n"
      ]
    },
    {
      "cell_type": "code",
      "execution_count": 16,
      "id": "da8ebaf5",
      "metadata": {
        "id": "da8ebaf5",
        "colab": {
          "base_uri": "https://localhost:8080/"
        },
        "outputId": "96dc771c-c72b-4045-a325-14b888d5dce1"
      },
      "outputs": [
        {
          "output_type": "stream",
          "name": "stdout",
          "text": [
            "input string:  AABB\n",
            "first order entropy: 1.0\n",
            "second order entropy: 0.5\n",
            "average codeword length: 1.0\n",
            "joint average length: 0.5\n"
          ]
        }
      ],
      "source": [
        "Q3_test()"
      ]
    },
    {
      "cell_type": "code",
      "execution_count": null,
      "id": "RHRVy3PFS0GA",
      "metadata": {
        "id": "RHRVy3PFS0GA"
      },
      "outputs": [],
      "source": [
        "# (3) Discuss any issues/interesting observations in your implementation.\n",
        "# NOTE: My second order entropy function returns the value as per symbol, not per 2 symbols\n",
        "# 2-joint huffman coding typically performs much better in terms of average codeword length per symbol.\n",
        "# In most cases this is true, I will be doing experiments below to find more details about the performance differences\n",
        "# between huffman coding and joint huffman coding.\n",
        "# The single order entropy and average codeword length of single symbol huffman coding are very close to one another.\n",
        "# The same applies to second order entropy and 2 joint huffman coding\n",
        "# Much like how it is described in our lecture slides, the entropy is always below or equal its corresponding huffman coding's\n",
        "# average codeword length. H(S) <= L < H(S) + 1 is always maintained\n"
      ]
    },
    {
      "cell_type": "code",
      "execution_count": 17,
      "id": "nc3G8I2AS4b4",
      "metadata": {
        "id": "nc3G8I2AS4b4",
        "colab": {
          "base_uri": "https://localhost:8080/"
        },
        "outputId": "7a752231-cf7f-4cf0-8149-a86579b926e5"
      },
      "outputs": [
        {
          "output_type": "stream",
          "name": "stdout",
          "text": [
            "Random Tests:\n",
            "String:  CDCEBAABDA\n",
            "first order entropy: 2.2464393446710154\n",
            "average codeword length: 2.3\n",
            "second order entropy: 1.160964047443681\n",
            "joint average length: 1.2\n",
            "\n",
            "\n",
            "Pre-defined Tests:\n",
            "String:  AAABBAABABAABA\n",
            "first order entropy: 0.9402859586706311\n",
            "average codeword length: 1.0\n",
            "second order entropy: 0.7783283537314114\n",
            "joint average length: 0.7857142857142857\n"
          ]
        }
      ],
      "source": [
        "# (4) Experiment different randomly/non randomly generated inputs, and discuss your observations.\n",
        "# You can implement your experiment here\n",
        "import random\n",
        "\n",
        "def generate_random_string(max_length=32):\n",
        "    length = random.randint(2, max_length // 2) * 2  # Ensure even length\n",
        "    return ''.join(random.choices('ABCDE', k=length))\n",
        "\n",
        "ran_string = generate_random_string()\n",
        "defined_string = \"AAABBAABABAABA\"\n",
        "\n",
        "print(\"Random Tests:\")\n",
        "print(\"String: \", ran_string)\n",
        "print(\"first order entropy:\",first_order_entropy(ran_string))\n",
        "print(\"average codeword length:\",huffman_length(ran_string))\n",
        "print(\"second order entropy:\",second_order_entropy(ran_string))\n",
        "print(\"joint average length:\",joint_huffman_length(ran_string))\n",
        "print(\"\\n\")\n",
        "\n",
        "print(\"Pre-defined Tests:\")\n",
        "print(\"String: \", defined_string)\n",
        "print(\"first order entropy:\",first_order_entropy(defined_string))\n",
        "print(\"average codeword length:\",huffman_length(defined_string))\n",
        "print(\"second order entropy:\",second_order_entropy(defined_string))\n",
        "print(\"joint average length:\",joint_huffman_length(defined_string))\n",
        "\n",
        "# From experiments, I can see that strings with a higher entropy (more random order of letters) and a more even\n",
        "# distribution of symbols (e.g. ABCD, where each symbol is equally likely to appear) do worse in regular huffman coding.\n",
        "# These kinds of inputs do much better in 2-symbol joint huffman coding and the disparity between average word lengths is\n",
        "# much greater in these scenarios. Considering it logically, it makes sense that single symbol huffman coding\n",
        "# performs poorly in these cases. If each symbol is of a near equal frequency, most symbols will be contained in the\n",
        "# same lowest depth of the huffman coding tree. This will cause codeword lengths to be long and less efficient.\n",
        "\n",
        "# String like the ones mentioned in the above explanation work better with 2-joint huffman coding likely because it reduces\n",
        "# the total number of symbols by pairing up the letters. 2-joint coding also works better if symbols within strings are more\n",
        "# dependent on their previous symbol. An example of this would be: BEBECAEBCAECEC, where pairs of characters are very\n",
        "# frequently repeating. This causes 2-joint huffman coding to perform very well.\n",
        "\n",
        "# Regular Huffman coding works best with inputs that have a small alphabet or when there is little contextual relationship\n",
        "# between symbols. For the string to be optimal for huffman coding it would also need an uneven distribution of probability\n",
        "# across symbols. Take this string for example: AAABBAABABAABA. The alphabet for it is small and therefore causes the\n",
        "# the single symbol huffman encoding to perform much closer to the joint symbol huffman coding.\n",
        "\n",
        "# Overall, 2-joint huffman coding performs better on average and has a lower average codeword length. However, the alphabet\n",
        "# given in this assignment is quite limited, so in scenarios where the alphabet can be much more expansive, this conclusion\n",
        "# might change."
      ]
    }
  ],
  "metadata": {
    "colab": {
      "provenance": []
    },
    "kernelspec": {
      "display_name": "Python 3 (ipykernel)",
      "language": "python",
      "name": "python3"
    },
    "language_info": {
      "codemirror_mode": {
        "name": "ipython",
        "version": 3
      },
      "file_extension": ".py",
      "mimetype": "text/x-python",
      "name": "python",
      "nbconvert_exporter": "python",
      "pygments_lexer": "ipython3",
      "version": "3.11.3"
    }
  },
  "nbformat": 4,
  "nbformat_minor": 5
}