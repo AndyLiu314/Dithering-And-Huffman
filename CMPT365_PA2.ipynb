{
  "cells": [
    {
      "cell_type": "code",
      "execution_count": 3,
      "id": "22cfedde",
      "metadata": {
        "id": "22cfedde"
      },
      "outputs": [],
      "source": [
        "import os\n",
        "import math\n",
        "import numpy as np\n",
        "# Please put your input file in the same folder as this Jupyter notebook file.\n",
        "# Please do not change any other code\n",
        "# You only need to complete the functions with TODO\n",
        "# You can simply run the Q1/Q2/Q3_test() to test your function"
      ]
    },
    {
      "cell_type": "code",
      "execution_count": 4,
      "id": "e8039925",
      "metadata": {
        "id": "e8039925"
      },
      "outputs": [],
      "source": [
        "def Q1_input(file_path):\n",
        "    input_list = []\n",
        "    with open(file_path, 'r') as file:\n",
        "        for line in file:\n",
        "            values = line.strip().split(',')\n",
        "            if len(values) == 3:\n",
        "                try:\n",
        "                    Y = int(values[0])\n",
        "                    Co = int(values[1])\n",
        "                    Cg = int(values[2])\n",
        "                    input_list.append((Y, Co, Cg))\n",
        "                except ValueError:\n",
        "                    print(f\"Invalid line: {line}\")\n",
        "    return input_list\n",
        "\n",
        "\n",
        "def Q1_test():\n",
        "    input_file = \"q1_input.txt\"\n",
        "    yco_cg_list = Q1_input(input_file)\n",
        "\n",
        "    for Y, Co, Cg in yco_cg_list:\n",
        "        YUV = Q1(Y, Co, Cg)\n",
        "        print(f\"YCoCg: ({Y}, {Co}, {Cg}) -> YUV: (Y={YUV[0]}, U={YUV[1]}, V={YUV[2]})\")\n"
      ]
    },
    {
      "cell_type": "code",
      "execution_count": 5,
      "id": "e296e743",
      "metadata": {
        "id": "e296e743"
      },
      "outputs": [],
      "source": [
        "def Q1(Y, Co, Cg):\n",
        "    # TODO:\n",
        "    # Conversion formula from Y Co Cg to YUV\n",
        "    YCoCg_RGB_matrix = np.array([\n",
        "        [1,  1,  0],\n",
        "        [-1,  1, -1],\n",
        "        [-1, 1,  1]\n",
        "    ])\n",
        "\n",
        "    RGB_YUV_matrix = np.array([\n",
        "        [0.299, 0.587, 0.114],\n",
        "        [-0.299, -0.587, 0.886],\n",
        "        [0.701, -0.587, -0.114]\n",
        "    ])\n",
        "\n",
        "    CgYCo = np.array([Cg, Y, Co])\n",
        "    G, B, R = np.dot(YCoCg_RGB_matrix, CgYCo)\n",
        "\n",
        "    RGB = np.array([R, G, B])\n",
        "    Y, U, V = np.dot(RGB_YUV_matrix, RGB)\n",
        "\n",
        "    return (Y, U, V)\n"
      ]
    },
    {
      "cell_type": "code",
      "execution_count": 6,
      "id": "35e43085",
      "metadata": {
        "id": "35e43085",
        "scrolled": true,
        "colab": {
          "base_uri": "https://localhost:8080/"
        },
        "outputId": "ab69867b-4115-4f61-fb1d-8a88c5dc68de"
      },
      "outputs": [
        {
          "output_type": "stream",
          "name": "stdout",
          "text": [
            "YCoCg: (100, 5, 5) -> YUV: (Y=101.795, U=-11.794999999999996, V=-1.7950000000000024)\n"
          ]
        }
      ],
      "source": [
        "Q1_test()"
      ]
    },
    {
      "cell_type": "code",
      "execution_count": 7,
      "id": "fb4cf90f",
      "metadata": {
        "id": "fb4cf90f"
      },
      "outputs": [],
      "source": [
        "dither_matrix = np.array([\n",
        "    [0, 3],\n",
        "    [2, 1]\n",
        "])\n",
        "\n",
        "def Q2_input(file_path):\n",
        "    image = []\n",
        "    with open(file_path, 'r') as file:\n",
        "        for line in file:\n",
        "            row = []\n",
        "            values = line.strip().split(',')\n",
        "            for item in values:\n",
        "                row.append(int(item))\n",
        "            image.append(row)\n",
        "    return np.array(image)\n",
        "\n",
        "def Q2_test():\n",
        "    file_path = \"q2_input.txt\"\n",
        "    input_image = Q2_input(file_path)\n",
        "    print(\"input image:\\n\",input_image)\n",
        "    dithering_res = dithering(input_image,dither_matrix)\n",
        "    ordered_dithering_res = ordered_dithering(input_image,dither_matrix)\n",
        "    print(\"dithering:\\n\",dithering_res)\n",
        "    print(\"ordered_dithering:\\n\",ordered_dithering_res)"
      ]
    },
    {
      "cell_type": "code",
      "execution_count": 8,
      "id": "db8656ac",
      "metadata": {
        "id": "db8656ac"
      },
      "outputs": [],
      "source": [
        "def dithering(input_image,dither_matrix):\n",
        "    #TODO:\n",
        "    # Function for dithering\n",
        "    ranges = np.linspace(0, 256, 6)\n",
        "    mapped = np.digitize(input_image, ranges) - 1\n",
        "\n",
        "    h, w = input_image.shape\n",
        "    dithered_img = np.zeros((h * 2, w * 2), dtype=np.uint8)\n",
        "\n",
        "    for y in range(h):\n",
        "        for x in range(w):\n",
        "            pixel = mapped[y, x]  # Get the pixel intensity\n",
        "            # Apply the threshold rule\n",
        "            new_block = (pixel > dither_matrix).astype(np.uint8)\n",
        "\n",
        "            # Store the 2x2 block in the final image\n",
        "            dithered_img[y*2:y*2+2, x*2:x*2+2] = new_block\n",
        "\n",
        "    return dithered_img\n",
        "\n",
        "def ordered_dithering(input_image,dither_matrix):\n",
        "    #TODO:\n",
        "    # Function for ordered dithering\n",
        "    n = np.size(dither_matrix, axis=0)\n",
        "    ranges = np.linspace(0, 256, 6)\n",
        "    mapped = np.digitize(input_image, ranges) - 1\n",
        "\n",
        "    h, w = input_image.shape\n",
        "    dithered_img = np.zeros((h, w), dtype=np.uint8)\n",
        "    for y in range(h):\n",
        "        for x in range(w):\n",
        "            i = x % n\n",
        "            j = y % n\n",
        "            pixel = mapped[y, x]\n",
        "            dither_entry = dither_matrix[j, i]\n",
        "            if (pixel > dither_entry):\n",
        "                dithered_img[y, x] = 1\n",
        "            else:\n",
        "                dithered_img[y, x] = 0\n",
        "\n",
        "    return dithered_img"
      ]
    },
    {
      "cell_type": "code",
      "execution_count": 9,
      "id": "01197452",
      "metadata": {
        "id": "01197452",
        "colab": {
          "base_uri": "https://localhost:8080/"
        },
        "outputId": "408d2d61-8e07-4006-e3d8-b33759bf6ef6"
      },
      "outputs": [
        {
          "output_type": "stream",
          "name": "stdout",
          "text": [
            "input image:\n",
            " [[ 12 112 233 100]\n",
            " [158 120  10 210]\n",
            " [ 31 190  71  81]\n",
            " [  1   1   1   1]]\n",
            "dithering:\n",
            " [[0 0 1 0 1 1 1 0]\n",
            " [0 0 0 1 1 1 0 0]\n",
            " [1 0 1 0 0 0 1 1]\n",
            " [1 1 0 1 0 0 1 1]\n",
            " [0 0 1 0 1 0 1 0]\n",
            " [0 0 1 1 0 0 0 0]\n",
            " [0 0 0 0 0 0 0 0]\n",
            " [0 0 0 0 0 0 0 0]]\n",
            "ordered_dithering:\n",
            " [[0 0 1 0]\n",
            " [1 1 0 1]\n",
            " [0 0 1 0]\n",
            " [0 0 0 0]]\n"
          ]
        }
      ],
      "source": [
        "Q2_test()"
      ]
    },
    {
      "cell_type": "code",
      "execution_count": 23,
      "id": "71279cb3",
      "metadata": {
        "id": "71279cb3"
      },
      "outputs": [],
      "source": [
        "def Q3_input(file_path):\n",
        "    string = []\n",
        "    with open(file_path, 'r') as file:\n",
        "        for line in file:\n",
        "            string.append(line)\n",
        "    return string\n",
        "\n",
        "\n",
        "def Q3_test():\n",
        "\n",
        "    file_path = \"q3_input.txt\"\n",
        "\n",
        "    input_list = Q3_input(file_path)\n",
        "    for input_string in input_list:\n",
        "        print(\"input string: \",input_string)\n",
        "        print(\"first order entropy:\",first_order_entropy(input_string))\n",
        "        print(\"second order entropy:\",second_order_entropy(input_string))\n",
        "        print(\"average codeword length:\",huffman_length(input_string))\n",
        "        print(\"joint average length:\",joint_huffman_length(input_string))\n",
        "\n"
      ]
    },
    {
      "cell_type": "code",
      "execution_count": 24,
      "id": "dce4fe6e",
      "metadata": {
        "id": "dce4fe6e"
      },
      "outputs": [],
      "source": [
        "def first_order_entropy(string):\n",
        "    # TODO:\n",
        "    # Function to calculate first-order entropy\n",
        "    n = len(string)\n",
        "    freqency = {}\n",
        "    for char in string:\n",
        "        if char in freqency:\n",
        "            freqency[char] += 1\n",
        "        else:\n",
        "            freqency[char] = 1\n",
        "    entropy = -sum((char_count / n) * math.log2(char_count / n) for char_count in freqency.values())\n",
        "\n",
        "    return entropy\n",
        "\n",
        "\n",
        "def second_order_entropy(string):\n",
        "    # TODO:\n",
        "    # Function to calculate second-order entropy\n",
        "    entropy = 0\n",
        "\n",
        "    return entropy\n",
        "\n",
        "\n",
        "\n",
        "\n",
        "def huffman_length(string):\n",
        "    # TODO:\n",
        "    # Function to calculate average codeword length\n",
        "    avg_length = 0\n",
        "\n",
        "    return avg_length\n",
        "\n",
        "\n",
        "def joint_huffman_length(string):\n",
        "    # TODO:\n",
        "    # Function to calculate average codeword length for 2 symbol joint Huffman coding\n",
        "    joint_avg_length = 0\n",
        "\n",
        "    return joint_avg_length\n",
        "\n"
      ]
    },
    {
      "cell_type": "code",
      "execution_count": 25,
      "id": "da8ebaf5",
      "metadata": {
        "id": "da8ebaf5",
        "colab": {
          "base_uri": "https://localhost:8080/"
        },
        "outputId": "450e847e-db05-4297-eaa2-b138a8789277"
      },
      "outputs": [
        {
          "output_type": "stream",
          "name": "stdout",
          "text": [
            "input string:  AABB\n",
            "first order entropy: 1.0\n",
            "second order entropy: 0\n",
            "average codeword length: 0\n",
            "joint average length: 0\n"
          ]
        }
      ],
      "source": [
        "Q3_test()"
      ]
    },
    {
      "cell_type": "code",
      "execution_count": null,
      "id": "RHRVy3PFS0GA",
      "metadata": {
        "id": "RHRVy3PFS0GA"
      },
      "outputs": [],
      "source": [
        "# (3) Discuss any issues/interesting observations in your implementation.\n"
      ]
    },
    {
      "cell_type": "code",
      "execution_count": null,
      "id": "nc3G8I2AS4b4",
      "metadata": {
        "id": "nc3G8I2AS4b4"
      },
      "outputs": [],
      "source": [
        "# (4) Experiment different randomly/non randomly generated inputs, and discuss your observations.\n",
        "# You can implement your experiment here\n",
        "\n"
      ]
    }
  ],
  "metadata": {
    "colab": {
      "provenance": []
    },
    "kernelspec": {
      "display_name": "Python 3 (ipykernel)",
      "language": "python",
      "name": "python3"
    },
    "language_info": {
      "codemirror_mode": {
        "name": "ipython",
        "version": 3
      },
      "file_extension": ".py",
      "mimetype": "text/x-python",
      "name": "python",
      "nbconvert_exporter": "python",
      "pygments_lexer": "ipython3",
      "version": "3.11.3"
    }
  },
  "nbformat": 4,
  "nbformat_minor": 5
}